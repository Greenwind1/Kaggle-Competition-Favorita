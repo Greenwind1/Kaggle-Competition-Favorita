{
 "cells": [
  {
   "cell_type": "markdown",
   "metadata": {
    "_uuid": "f31325c21ce8d5cb93a050185ff10801501d5e3c"
   },
   "source": [
    "# <font size=10 color=darkslateblue> MNIST SE-NET / dropout / data augmentation / RMSprop / BN </font>\n---\n<font color=darkslateblue>Written by Maxwell@maxwell110</font>"
   ]
  },
  {
   "cell_type": "markdown",
   "metadata": {
    "_uuid": "d41efe8b0d33bb89f7313d9aca41c5f597b2ede3"
   },
   "source": [
    "![fig1](https://cdn-ak.f.st-hatena.com/images/fotolife/g/greenwind120170/20181104/20181104111845.png)"
   ]
  },
  {
   "cell_type": "code",
   "execution_count": null,
   "metadata": {
    "_uuid": "8f2839f25d086af736a60e9eeb907d3b93b6e0e5",
    "_cell_guid": "b1076dfc-b9ad-4769-8c92-a6c4dae69d19",
    "trusted": true
   },
   "outputs": [],
   "source": [
    "import numpy as np # linear algebra\n",
    "import pandas as pd # data processing, CSV file I/O (e.g. pd.read_csv)\n",
    "import os\n",
    "import random\n",
    "\n",
    "%matplotlib inline\n",
    "import matplotlib.pyplot as plt\n",
    "\n",
    "from sklearn.model_selection import train_test_split\n",
    "\n",
    "import keras\n",
    "from keras.layers import Dense, Conv2D, MaxPooling2D, Flatten, GlobalAveragePooling2D, multiply\n",
    "from keras.layers import Dropout, BatchNormalization, Activation\n",
    "from keras.models import Model, Input\n",
    "from keras.optimizers import SGD, RMSprop\n",
    "from keras.callbacks import LearningRateScheduler, ModelCheckpoint, ReduceLROnPlateau\n",
    "from keras.preprocessing.image import ImageDataGenerator\n",
    "\n",
    "plt.style.use('ggplot')\n",
    "print(os.listdir(\"../input\"))"
   ]
  },
  {
   "cell_type": "markdown",
   "metadata": {
    "_uuid": "52e8715944905f48dde1145bc8c06188f5ca5c89"
   },
   "source": [
    "## <font color=darkslateblue><b> LOAD DATA </b></font>"
   ]
  },
  {
   "cell_type": "code",
   "execution_count": null,
   "metadata": {
    "_cell_guid": "79c7e3d0-c299-4dcb-8224-4455121ee9b0",
    "_uuid": "d629ff2d2480ee46fbb7e2d37f6b5fab8052498a",
    "trusted": true
   },
   "outputs": [],
   "source": [
    "train = pd.read_csv('../input/train.csv')\n",
    "test = pd.read_csv('../input/test.csv')"
   ]
  },
  {
   "cell_type": "code",
   "execution_count": null,
   "metadata": {
    "trusted": true,
    "_uuid": "49a27651e4ef57a41949804de2d8154ac76e18ee"
   },
   "outputs": [],
   "source": [
    "train.head()"
   ]
  },
  {
   "cell_type": "markdown",
   "metadata": {
    "_uuid": "1b04926894f3549a3730ef246d977dced7a2b06d"
   },
   "source": [
    "## <font color=darkslateblue><b> TRAIN AND TEST DATA </b></font>"
   ]
  },
  {
   "cell_type": "code",
   "execution_count": null,
   "metadata": {
    "trusted": true,
    "_uuid": "7d4853a7aff75a0aab5f03ddc7b5e8dfb03188a5"
   },
   "outputs": [],
   "source": [
    "# normalize\n",
    "train_x = train.loc[:, 'pixel0':] / 255\n",
    "train_y = train.label\n",
    "test_x = test / 255"
   ]
  },
  {
   "cell_type": "code",
   "execution_count": null,
   "metadata": {
    "trusted": true,
    "_uuid": "cee7a914c79155f77f276807a534e18475cf8fc7"
   },
   "outputs": [],
   "source": [
    "train_x = train_x.values\n",
    "test_x = test_x.values\n",
    "print(train_x.shape, test_x.shape)"
   ]
  },
  {
   "cell_type": "code",
   "execution_count": null,
   "metadata": {
    "trusted": true,
    "_uuid": "99693462689a3716d67c1616c8982ab319046fc1"
   },
   "outputs": [],
   "source": [
    "# reshape for CNN input\n",
    "train_x = train_x.reshape(train_x.shape[0], 28, 28, 1)\n",
    "test_x = test_x.reshape(test_x.shape[0], 28, 28, 1)"
   ]
  },
  {
   "cell_type": "code",
   "execution_count": null,
   "metadata": {
    "trusted": true,
    "_uuid": "eb40b96ca2ac38d3eec2591f06da09881c161c12"
   },
   "outputs": [],
   "source": [
    "# encode\n",
    "train_y = keras.utils.to_categorical(train_y, 10)\n",
    "train_y.shape"
   ]
  },
  {
   "cell_type": "markdown",
   "metadata": {
    "_uuid": "0eb7f3d4fb65dcb11b8afffa498ebf4584846108"
   },
   "source": [
    "## <font color=darkslateblue><b> SE-NET MODEL </b></font>"
   ]
  },
  {
   "cell_type": "code",
   "execution_count": null,
   "metadata": {
    "trusted": true,
    "_uuid": "3b95866b0c127d1816b53b3607bb4469017304f8"
   },
   "outputs": [],
   "source": [
    "def SEModule(x, filters, ratio=16):\n",
    "    se = GlobalAveragePooling2D()(x)\n",
    "    se = Dense(filters // ratio, activation='relu')(se)\n",
    "    se = Dense(filters, activation='sigmoid')(se)\n",
    "    return multiply([x, se])"
   ]
  },
  {
   "cell_type": "code",
   "execution_count": null,
   "metadata": {
    "trusted": true,
    "_uuid": "240bcb979693e3fe214d3638f807e856ddcfcb24"
   },
   "outputs": [],
   "source": [
    "def simple_cnn(input_shape):\n",
    "    cnn_in = Input(input_shape)\n",
    "    cnn = Conv2D(filters=64, \n",
    "                 kernel_size=[3, 3], \n",
    "                 strides=[1, 1], \n",
    "                 padding='same')(cnn_in)\n",
    "    cnn = BatchNormalization()(cnn)\n",
    "    cnn = Activation('relu')(cnn)\n",
    "    cnn = SEModule(cnn, 64)\n",
    "    cnn = Conv2D(filters=64, \n",
    "                 kernel_size=[3, 3], \n",
    "                 strides=[1, 1], \n",
    "                 padding='same')(cnn)\n",
    "    cnn = BatchNormalization()(cnn)\n",
    "    cnn = Activation('relu')(cnn)\n",
    "    cnn = MaxPooling2D(pool_size=[2, 2])(cnn)\n",
    "    cnn = Dropout(rate=0.1)(cnn)\n",
    "    cnn = Conv2D(filters=128, \n",
    "                 kernel_size=[3, 3], \n",
    "                 strides=[1, 1], \n",
    "                 padding='same')(cnn)\n",
    "    cnn = BatchNormalization()(cnn)\n",
    "    cnn = Activation('relu')(cnn)\n",
    "    cnn = SEModule(cnn, 128)\n",
    "    cnn = Conv2D(filters=128, \n",
    "                 kernel_size=[3, 3], \n",
    "                 strides=[1, 1], \n",
    "                 padding='same')(cnn)\n",
    "#     cnn = BatchNormalization()(cnn)\n",
    "    cnn = Activation('relu')(cnn)\n",
    "    cnn = Dropout(rate=0.2)(cnn)\n",
    "    cnn_med = Flatten()(cnn)\n",
    "    cnn_out = Dense(units=10, activation='softmax')(cnn_med)\n",
    "    \n",
    "    model = Model(inputs=cnn_in, outputs=cnn_out)\n",
    "    return model"
   ]
  },
  {
   "cell_type": "code",
   "execution_count": null,
   "metadata": {
    "trusted": true,
    "_uuid": "26e9281d45899a18e60f599dbef55aff04b8677d"
   },
   "outputs": [],
   "source": [
    "input_shape = (28, 28, 1)"
   ]
  },
  {
   "cell_type": "code",
   "execution_count": null,
   "metadata": {
    "trusted": true,
    "_uuid": "36c4ac594cdcf4f7b095df6ad7dce443d22638c0",
    "scrolled": true
   },
   "outputs": [],
   "source": [
    "cnn_model = simple_cnn(input_shape)\n",
    "cnn_model.summary()"
   ]
  },
  {
   "cell_type": "markdown",
   "metadata": {
    "_uuid": "3b44aaa87e0d1f7203334251d48591402c680f51"
   },
   "source": [
    "## <font color=darkslateblue><b> LEARNING SCHEDULE </b></font>"
   ]
  },
  {
   "cell_type": "code",
   "execution_count": null,
   "metadata": {
    "trusted": true,
    "_uuid": "76a3c63467414e5e10b7f7b7eb7400ca35b12cdc"
   },
   "outputs": [],
   "source": [
    "def lr_schedule(epoch):\n",
    "    lr = 0.1\n",
    "    if epoch > 15:\n",
    "        lr = lr / 100\n",
    "    elif epoch > 10:\n",
    "        lr = lr / 10\n",
    "    elif epoch > 5:\n",
    "        lr = lr / 5\n",
    "#     print('learning rate : ', lr)\n",
    "    return lr"
   ]
  },
  {
   "cell_type": "code",
   "execution_count": null,
   "metadata": {
    "trusted": true,
    "_uuid": "1a6492609097fd35b9768d3227f5791c6de11f66"
   },
   "outputs": [],
   "source": [
    "# lr_scheduler = LearningRateScheduler(lr_schedule)\n",
    "lr_scheduler = ReduceLROnPlateau(monitor='val_acc',\n",
    "                                 patience=3,\n",
    "                                 verbose=1,\n",
    "                                 factor=0.5,\n",
    "                                 min_lr=0.000001)"
   ]
  },
  {
   "cell_type": "markdown",
   "metadata": {
    "_uuid": "b146a95e811876fb391e26875be052bff5370d7b"
   },
   "source": [
    "## <font color=darkslateblue><b> MODEL CHECKPOINT </b></font>"
   ]
  },
  {
   "cell_type": "code",
   "execution_count": null,
   "metadata": {
    "trusted": true,
    "_uuid": "9d4f5d813f77f51eb098bc1644838bad4e19df69"
   },
   "outputs": [],
   "source": [
    "# make directory\n",
    "save_dir = '../model'\n",
    "os.makedirs(save_dir, exist_ok=True)\n",
    "\n",
    "model_name = 'mnist.{epoch:03d}.h5'\n",
    "modelpath = os.path.join(save_dir, model_name)\n",
    "checkpoint = ModelCheckpoint(\n",
    "    filepath=modelpath,\n",
    "    monitor='val_acc',\n",
    "    verbose=1,\n",
    "    save_best_only=True,\n",
    "    period=1)"
   ]
  },
  {
   "cell_type": "markdown",
   "metadata": {
    "_uuid": "34c3c0140f798f2545fb28361beb9a7e5fc531a1"
   },
   "source": [
    "## <font color=darkslateblue><b> MODEL COMPILE </b></font>"
   ]
  },
  {
   "cell_type": "code",
   "execution_count": null,
   "metadata": {
    "trusted": true,
    "_uuid": "0deb01ba3414e0ccd3745915d6a4e226284b2e4a"
   },
   "outputs": [],
   "source": [
    "cnn_model.compile(\n",
    "    optimizer=RMSprop(lr=0.001, rho=0.9, epsilon=1e-08, decay=0.0),\n",
    "    loss='categorical_crossentropy',\n",
    "    metrics=['accuracy']\n",
    ")"
   ]
  },
  {
   "cell_type": "markdown",
   "metadata": {
    "_uuid": "ff07a8114ee0d7b702f072d4dd48ea9e9cb7741d"
   },
   "source": [
    "## <font color=darkslateblue><b> DATA AUGMENTATION </b></font>"
   ]
  },
  {
   "cell_type": "code",
   "execution_count": null,
   "metadata": {
    "trusted": true,
    "_uuid": "8d9fd2682bc00139f6a83a2bca56f26d4813cd5e"
   },
   "outputs": [],
   "source": [
    "dgen = ImageDataGenerator(\n",
    "    featurewise_center=False, \n",
    "    samplewise_center=False, \n",
    "    featurewise_std_normalization=False, \n",
    "    samplewise_std_normalization=False, \n",
    "    zca_whitening=False, \n",
    "    zca_epsilon=1e-06, \n",
    "    rotation_range=10,  # degree \n",
    "    width_shift_range=0.1, \n",
    "    height_shift_range=0.1, \n",
    "    brightness_range=None, \n",
    "    shear_range=10,  # degree \n",
    "    zoom_range=0.1, \n",
    "    channel_shift_range=0., \n",
    "    fill_mode='nearest', \n",
    "    cval=0.0, \n",
    "    horizontal_flip=False, \n",
    "    vertical_flip=False, \n",
    "    rescale=None, \n",
    "    preprocessing_function=None, \n",
    "    data_format='channels_last', \n",
    "    validation_split=0.0\n",
    ")"
   ]
  },
  {
   "cell_type": "code",
   "execution_count": null,
   "metadata": {
    "trusted": true,
    "_uuid": "b07c3537d6507269b0b91d3b38ed95c85018f17c",
    "scrolled": false
   },
   "outputs": [],
   "source": [
    "n_sampled = 20\n",
    "fig, ax = plt.subplots(n_sampled // 5, 10, figsize=(15, 1.5 * (n_sampled // 5)))\n",
    "axes = ax.ravel()\n",
    "for i in range(n_sampled):\n",
    "    train_sampled = train_x[np.random.choice(range(train_x.shape[0]))].reshape(1, 28, 28, 1)\n",
    "    for batch_x in dgen.flow(train_sampled, batch_size=1):\n",
    "        break\n",
    "    axes[2 * i].imshow(train_sampled.reshape(28, 28), cmap=plt.cm.Greys)\n",
    "    axes[2 * i].set_title('original', fontsize=5)\n",
    "    axes[2 * i + 1].imshow(batch_x.reshape(28, 28), cmap=plt.cm.Greys)\n",
    "    axes[2 * i + 1].set_title('augmented', fontsize=5)\n",
    "fig.tight_layout()"
   ]
  },
  {
   "cell_type": "markdown",
   "metadata": {
    "_uuid": "1f89527e957519114d076f7a87cb5d4cfd53c252"
   },
   "source": [
    "## <font color=darkslateblue><b> FIT MODEL AND PREDICT </b></font>"
   ]
  },
  {
   "cell_type": "code",
   "execution_count": null,
   "metadata": {
    "trusted": true,
    "_uuid": "010b9e7de55f1433e3f4416edd80dd642a2e1335"
   },
   "outputs": [],
   "source": [
    "SEED = range(5)"
   ]
  },
  {
   "cell_type": "code",
   "execution_count": null,
   "metadata": {
    "trusted": true,
    "_uuid": "ce147ccaf80c0f28fa8d414b94e03b5d878620e7",
    "scrolled": true
   },
   "outputs": [],
   "source": [
    "batch_size = 100\n",
    "epochs = 70\n",
    "test_pred = np.zeros((test_x.shape[0], 10))\n",
    "for s in SEED:\n",
    "    print('\\nSEED : {}'.format(s))\n",
    "    train_x_s, val_x_s, train_y_s, val_y_s = train_test_split(train_x, train_y, test_size = 0.15, random_state=s)\n",
    "    cnn_model = simple_cnn(input_shape)\n",
    "    cnn_model.compile(\n",
    "        optimizer=RMSprop(lr=0.001, rho=0.9, epsilon=1e-08, decay=0.0),\n",
    "        loss='categorical_crossentropy',\n",
    "        metrics=['accuracy']\n",
    "    )\n",
    "    cnn_model.fit_generator(\n",
    "        dgen.flow(train_x_s, train_y_s, batch_size=batch_size),\n",
    "        steps_per_epoch = train_x_s.shape[0] / batch_size,\n",
    "        epochs=epochs,\n",
    "        validation_data=(val_x_s, val_y_s),\n",
    "        shuffle=True,\n",
    "        verbose=1,\n",
    "        callbacks=[lr_scheduler]\n",
    "    )\n",
    "    test_pred += cnn_model.predict(test_x)"
   ]
  },
  {
   "cell_type": "markdown",
   "metadata": {
    "_uuid": "de64e0ac1a2784dbcb164a191131a227fe0dd0f0"
   },
   "source": [
    "## <font color=darkslateblue><b> SUBMIT </b></font>"
   ]
  },
  {
   "cell_type": "code",
   "execution_count": null,
   "metadata": {
    "trusted": true,
    "_uuid": "8ad7821b8526531372910f2cfb40a54e2c31e472"
   },
   "outputs": [],
   "source": [
    "sub = np.argmax(test_pred, axis=1)\n",
    "sub = pd.Series(sub, name=\"Label\")\n",
    "sub = pd.concat([pd.Series(range(1 ,28001), name = \"ImageId\"), sub], axis = 1)\n",
    "sub.to_csv(\"simple_cnn_dropout_augmentation.csv\", index=False)\n",
    "sub.head(10)"
   ]
  }
 ],
 "metadata": {
  "kernelspec": {
   "display_name": "Python 3",
   "language": "python",
   "name": "python3"
  },
  "language_info": {
   "name": "python",
   "version": "3.6.6",
   "mimetype": "text/x-python",
   "codemirror_mode": {
    "name": "ipython",
    "version": 3
   },
   "pygments_lexer": "ipython3",
   "nbconvert_exporter": "python",
   "file_extension": ".py"
  }
 },
 "nbformat": 4,
 "nbformat_minor": 1
}
